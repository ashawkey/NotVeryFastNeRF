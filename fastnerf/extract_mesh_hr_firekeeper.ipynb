{
 "cells": [
  {
   "cell_type": "code",
   "execution_count": null,
   "metadata": {},
   "outputs": [],
   "source": [
    "import torch\n",
    "from collections import defaultdict\n",
    "import numpy as np\n",
    "import mcubes\n",
    "import trimesh\n",
    "\n",
    "from models.rendering import *\n",
    "from models.nerf import *\n",
    "\n",
    "from datasets import dataset_dict\n",
    "\n",
    "from utils import load_ckpt\n",
    "import tqdm\n",
    "\n",
    "import os\n",
    "os.environ[\"CUDA_DEVICE_ORDER\"]=\"PCI_BUS_ID\"\n",
    "os.environ[\"CUDA_VISIBLE_DEVICES\"]=\"8\""
   ]
  },
  {
   "cell_type": "markdown",
   "metadata": {},
   "source": [
    "# Load model and data"
   ]
  },
  {
   "cell_type": "code",
   "execution_count": null,
   "metadata": {},
   "outputs": [],
   "source": [
    "img_wh = (4032, 3024) # full resolution of the input images\n",
    "dataset_name = 'llff' # blender or llff (own data)\n",
    "scene_name = 'firekeeper_hr' # whatever you want\n",
    "root_dir = '../pretrained/firekeeper/' # the folder containing data\n",
    "ckpt_path = 'ckpts/firekeeper_hr_fastnerf/epoch=12.ckpt' # the model path\n",
    "###############\n",
    "\n",
    "kwargs = {'root_dir': root_dir,\n",
    "          'img_wh': img_wh}\n",
    "if dataset_name == 'llff':\n",
    "    kwargs['spheric_poses'] = True\n",
    "    kwargs['split'] = 'test'\n",
    "else:\n",
    "    kwargs['split'] = 'train'\n",
    "    \n",
    "chunk = 1024*32\n",
    "dataset = dataset_dict[dataset_name](**kwargs)\n",
    "\n",
    "embedding_xyz = Embedding(3, 10)\n",
    "embedding_dir = Embedding(3, 4)\n",
    "\n",
    "nerf_fine = NeRF()\n",
    "load_ckpt(nerf_fine, ckpt_path, model_name='nerf_fine')\n",
    "nerf_fine.cuda().eval()\n",
    "\n",
    "os.makedirs('output', exist_ok=True)"
   ]
  },
  {
   "cell_type": "markdown",
   "metadata": {},
   "source": [
    "# Search for tight bounds of the object (trial and error!)"
   ]
  },
  {
   "cell_type": "code",
   "execution_count": null,
   "metadata": {},
   "outputs": [],
   "source": [
    "############################################################################################\n",
    "## calculate uvws\n",
    "############################################################################################\n",
    "\n",
    "N = 768 # controls the resolution, set this number small here because we're only finding\n",
    "        # good ranges here, not yet for mesh reconstruction; we can set this number high\n",
    "        # when it comes to final reconstruction.\n",
    "        \n",
    "## Attention! the ranges MUST have the same length!\n",
    "xmin, xmax = -1.2, 1.2 # left/right range\n",
    "ymin, ymax = -1.2, 1.2 # forward/backward range\n",
    "zmin, zmax = -1.2, 1.2 # up/down range\n",
    "\n",
    "# sigma and sigma\n",
    "x = np.linspace(xmin, xmax, N, endpoint=False)\n",
    "y = np.linspace(ymin, ymax, N, endpoint=False)\n",
    "z = np.linspace(zmin, zmax, N, endpoint=False)\n",
    "xyz_ = torch.FloatTensor(np.stack(np.meshgrid(x, y, z), -1).reshape(-1, 3))\n",
    "dir_ = torch.zeros_like(xyz_)\n",
    "\n",
    "with torch.no_grad():\n",
    "    B = xyz_.shape[0]\n",
    "    uvw, sigma = [], []\n",
    "    for i in tqdm.trange(0, B, chunk):\n",
    "        xyz_embedded = embedding_xyz(xyz_[i:i+chunk].cuda()) # (N, embed_xyz_channels)\n",
    "        dir_embedded = embedding_dir(dir_[i:i+chunk].cuda()) # (N, embed_dir_channels)\n",
    "        xyzdir_embedded = torch.cat([xyz_embedded, dir_embedded], 1)\n",
    "        uvw_, beta_, sigma_ = nerf_fine(xyzdir_embedded, return_components=True)\n",
    "        uvw.append(uvw_.cpu()) \n",
    "        sigma.append(sigma_.cpu()) \n",
    "    uvw = torch.cat(uvw, 0).numpy().astype(np.float32).reshape(N, N, N, -1) # [NNN, 3, 8] --> [N, N, N, 3*8]\n",
    "    sigma = torch.cat(sigma, 0).numpy().astype(np.float32).reshape(N, N, N, -1) # [NNN, 1] --> [N, N, N, 1]\n",
    "\n",
    "sigma = np.maximum(sigma, 0)\n",
    "\n",
    "print(uvw.shape, uvw.dtype)\n",
    "print(sigma.shape, sigma.dtype)\n",
    "\n"
   ]
  },
  {
   "cell_type": "code",
   "execution_count": null,
   "metadata": {},
   "outputs": [],
   "source": [
    "sigma_thresh = 0\n",
    "mask = (sigma[:, :, :, 0] > sigma_thresh) # [N, N, N], 0/1\n",
    "\n",
    "# save link list like sparse matrix\n",
    "coords = np.nonzero(mask)\n",
    "nnz = coords[0].shape[0]\n",
    "print(nnz, nnz / np.prod(mask.shape))\n",
    "\n",
    "inds = -np.ones_like(mask, dtype=np.int32)\n",
    "inds[coords] = np.arange(nnz)\n",
    "\n",
    "uvws = np.concatenate([\n",
    "    uvw[coords], # [nnz, 24]\n",
    "    sigma[coords],\n",
    "], axis=1).astype(np.float32)\n",
    "\n",
    "print(inds.shape, uvws.shape)\n",
    "np.save(f'output/{scene_name}_inds_{N}_{sigma_thresh}.npy', inds)\n",
    "np.save(f'output/{scene_name}_uvws_{N}_{sigma_thresh}.npy', uvws)\n",
    "print('saved')"
   ]
  },
  {
   "cell_type": "code",
   "execution_count": null,
   "metadata": {
    "tags": []
   },
   "outputs": [],
   "source": [
    "############################################################################################\n",
    "## calculate beta (spherical ver.) (anyway, seems buggy)\n",
    "############################################################################################\n",
    "\n",
    "M = 512 # for angles\n",
    "\n",
    "theta = np.linspace(0, np.pi, M, endpoint=True) # [0, 180], elevation\n",
    "phi = np.linspace(-np.pi, np.pi, M, endpoint=False) # [-180, 180], azimuth\n",
    "dir_spherical = np.stack(np.meshgrid(theta, phi), -1).reshape(-1, 2) # [M * 2M, 2]\n",
    "dir_ = torch.FloatTensor(np.stack([\n",
    "    np.cos(dir_spherical[:, 1]) * np.sin(dir_spherical[:, 0]), \n",
    "    np.sin(dir_spherical[:, 1]) * np.sin(dir_spherical[:, 0]), \n",
    "    np.cos(dir_spherical[:, 0]),\n",
    "], axis=1)) # [M*2M, 3] normalized \n",
    "xyz_ = torch.zeros_like(dir_)\n",
    "\n",
    "with torch.no_grad():\n",
    "    B = dir_.shape[0]\n",
    "    beta = []\n",
    "    for i in tqdm.trange(0, B, chunk):\n",
    "        end = min(B, i+chunk)\n",
    "        xyz_embedded = embedding_xyz(xyz_[i:end].cuda()) # (N, embed_xyz_channels)\n",
    "        dir_embedded = embedding_dir(dir_[i:end].cuda()) # (N, embed_dir_channels)\n",
    "        xyzdir_embedded = torch.cat([xyz_embedded, dir_embedded], 1)\n",
    "        uvw_, beta_, sigma_ = nerf_fine(xyzdir_embedded, return_components=True)\n",
    "        beta.append(beta_.cpu()) \n",
    "        \n",
    "    beta = torch.cat(beta, 0).numpy().astype(np.float32).reshape(M, M, -1) # [M, M, 8]\n",
    "\n",
    "print(beta.shape, beta.dtype)"
   ]
  },
  {
   "cell_type": "code",
   "execution_count": null,
   "metadata": {},
   "outputs": [],
   "source": [
    "np.save(f'output/{scene_name}_beta_{M}_spherical.npy', beta)\n",
    "print(f'saved {beta.shape}')"
   ]
  },
  {
   "cell_type": "code",
   "execution_count": null,
   "metadata": {},
   "outputs": [],
   "source": [
    "############################################################################################\n",
    "## calculate beta (cartesian ver.)\n",
    "############################################################################################\n",
    "\n",
    "M = 200 # for angles\n",
    "\n",
    "# beta\n",
    "nx = np.linspace(-1, 1, M, endpoint=False)\n",
    "ny = np.linspace(-1, 1, M, endpoint=False)\n",
    "nz = np.linspace(-1, 1, M, endpoint=False)\n",
    "dir_ = np.stack(np.meshgrid(nx, ny, nz), -1).reshape(-1, 3)\n",
    "dir_ = dir_ / (np.linalg.norm(dir_, ord=2, axis=-1, keepdims=True) + 1e-6)\n",
    "dir_ = torch.FloatTensor(dir_).cuda()\n",
    "xyz_ = torch.zeros_like(dir_)\n",
    "\n",
    "#chunk = 1\n",
    "chunk = 1024*32\n",
    "\n",
    "with torch.no_grad():\n",
    "    B = dir_.shape[0]\n",
    "    beta = []\n",
    "    for i in tqdm.trange(0, B, chunk):\n",
    "        end = min(B, i+chunk)\n",
    "        xyz_embedded = embedding_xyz(xyz_[i:end].cuda()) # (N, embed_xyz_channels)\n",
    "        dir_embedded = embedding_dir(dir_[i:end].cuda()) # (N, embed_dir_channels)\n",
    "        xyzdir_embedded = torch.cat([xyz_embedded, dir_embedded], 1)\n",
    "        uvw_, beta_, sigma_ = nerf_fine(xyzdir_embedded, return_components=True)\n",
    "        beta.append(beta_.cpu()) \n",
    "        \n",
    "    beta = torch.cat(beta, 0).numpy().astype(np.float32).reshape(M, M, M, -1) # [M, M, M, 8]\n",
    "\n",
    "print(beta.shape, beta.dtype)"
   ]
  },
  {
   "cell_type": "code",
   "execution_count": null,
   "metadata": {},
   "outputs": [],
   "source": [
    "np.save(f'output/{scene_name}_beta_{M}_cart.npy', beta)\n",
    "print(f'saved {beta.shape}')"
   ]
  },
  {
   "cell_type": "code",
   "execution_count": null,
   "metadata": {},
   "outputs": [],
   "source": [
    "###########################################################################################\n",
    "## visualize mesh (maybe slow)\n",
    "###########################################################################################\n",
    "sigma_thresh = 20\n",
    "vertices, triangles = mcubes.marching_cubes(sigma.copy()[:, :, :, 0], sigma_thresh)\n",
    "mesh = trimesh.Trimesh(vertices/N, triangles)\n",
    "mesh.show()"
   ]
  }
 ],
 "metadata": {
  "interpreter": {
   "hash": "6fd0f941b71448a331a3315929bae27a5f632ebefb46eb20981297027277c09b"
  },
  "kernelspec": {
   "display_name": "Python 3.6.11 64-bit ('torch': conda)",
   "name": "python3"
  },
  "language_info": {
   "codemirror_mode": {
    "name": "ipython",
    "version": 3
   },
   "file_extension": ".py",
   "mimetype": "text/x-python",
   "name": "python",
   "nbconvert_exporter": "python",
   "pygments_lexer": "ipython3",
   "version": "3.6.11"
  }
 },
 "nbformat": 4,
 "nbformat_minor": 4
}